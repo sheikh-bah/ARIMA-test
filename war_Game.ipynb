{
  "nbformat": 4,
  "nbformat_minor": 0,
  "metadata": {
    "colab": {
      "name": "war_Game.ipynb",
      "provenance": [],
      "authorship_tag": "ABX9TyNgrr0Yd/SdviCvkPu6ol8B",
      "include_colab_link": true
    },
    "kernelspec": {
      "name": "python3",
      "display_name": "Python 3"
    }
  },
  "cells": [
    {
      "cell_type": "markdown",
      "metadata": {
        "id": "view-in-github",
        "colab_type": "text"
      },
      "source": [
        "<a href=\"https://colab.research.google.com/github/sheikh-bah/ARIMA-test/blob/master/war_Game.ipynb\" target=\"_parent\"><img src=\"https://colab.research.google.com/assets/colab-badge.svg\" alt=\"Open In Colab\"/></a>"
      ]
    },
    {
      "cell_type": "code",
      "metadata": {
        "id": "R8xCdd0HBb3l"
      },
      "source": [
        "suit =('diamonds (♦)', 'clubs (♣)', 'hearts (♥)',' spades (♠)')\r\n",
        "\r\n",
        "rank = ( 'two', 'three', 'four', 'five', 'six', 'seven', 'eight', 'nine', 'ten', 'jack', 'queen', 'king', 'ace')\r\n",
        "\r\n",
        "values  ={ 'two': 2, 'three':3, 'four': 4,'five': 5, 'six':6, 'seven':7, 'eight': 8, 'nine':9, 'ten':10, 'jack':11, \r\n",
        "          'queen':12, 'king':13, 'ace':14}\r\n",
        "\r\n",
        "import random"
      ],
      "execution_count": 65,
      "outputs": []
    },
    {
      "cell_type": "code",
      "metadata": {
        "id": "PDphti1PEUnX"
      },
      "source": [
        "# we create our card class\r\n",
        "\r\n",
        "class Card():\r\n",
        "\r\n",
        "  def __init__(self,suit, rank): # has three atrributes, suit and rank.\r\n",
        "    self.suit = suit  \r\n",
        "    self.rank = rank\r\n",
        "    self.value = values[rank] # we want to use numbers to be able to make ranking from our cards, using dictionaries\r\n",
        "\r\n",
        "  def __str__(self):\r\n",
        "    # to print rank of suit(e.g two of diamonds)\r\n",
        "    return f'{self.rank} of {self.suit}' \r\n",
        "\r\n",
        "\r\n",
        "  \r\n",
        "\r\n",
        "\r\n"
      ],
      "execution_count": 66,
      "outputs": []
    },
    {
      "cell_type": "code",
      "metadata": {
        "id": "meSxfFbIGoPo"
      },
      "source": [
        "card_class = Card('diamonds', 'two')"
      ],
      "execution_count": 67,
      "outputs": []
    },
    {
      "cell_type": "code",
      "metadata": {
        "colab": {
          "base_uri": "https://localhost:8080/",
          "height": 35
        },
        "id": "mUlFqSc-Gyb3",
        "outputId": "438128d8-77fc-4f99-b760-c011e45d1091"
      },
      "source": [
        "card_class.rank\r\n"
      ],
      "execution_count": 68,
      "outputs": [
        {
          "output_type": "execute_result",
          "data": {
            "application/vnd.google.colaboratory.intrinsic+json": {
              "type": "string"
            },
            "text/plain": [
              "'two'"
            ]
          },
          "metadata": {
            "tags": []
          },
          "execution_count": 68
        }
      ]
    },
    {
      "cell_type": "code",
      "metadata": {
        "colab": {
          "base_uri": "https://localhost:8080/"
        },
        "id": "V04KGkOVG0ch",
        "outputId": "4d214163-41ae-49f6-face-c66ce0251fda"
      },
      "source": [
        "card_class.value"
      ],
      "execution_count": 69,
      "outputs": [
        {
          "output_type": "execute_result",
          "data": {
            "text/plain": [
              "2"
            ]
          },
          "metadata": {
            "tags": []
          },
          "execution_count": 69
        }
      ]
    },
    {
      "cell_type": "code",
      "metadata": {
        "colab": {
          "base_uri": "https://localhost:8080/"
        },
        "id": "QrOyt6w6G3Ly",
        "outputId": "ccb23c51-4c4e-407c-9696-0569bb66940f"
      },
      "source": [
        "print(card_class)"
      ],
      "execution_count": 70,
      "outputs": [
        {
          "output_type": "stream",
          "text": [
            "two of diamonds\n"
          ],
          "name": "stdout"
        }
      ]
    },
    {
      "cell_type": "code",
      "metadata": {
        "id": "p1DbogRJHno3"
      },
      "source": [
        "# DECK CLASS"
      ],
      "execution_count": 71,
      "outputs": []
    },
    {
      "cell_type": "code",
      "metadata": {
        "id": "Sre6yM_vJf8s"
      },
      "source": [
        "# Our deck will have 52 cards using the suit and rank of the cards.\r\n",
        "# the card must be shuffle\r\n",
        "# we should be ble to deal cards from the deck\r\n",
        "# we can still be able to print (suit and rank) from our Card Class\r\n",
        "\r\n",
        "\r\n",
        "\r\n",
        "class Deck():\r\n",
        "\r\n",
        "  def __init__(self):\r\n",
        "    self.all_cards = []\r\n",
        "\r\n",
        "    for suits in suit:\r\n",
        "      for ranks in rank:\r\n",
        "        \r\n",
        "        self.all_cards.append(Card(suits, ranks))\r\n",
        "   \r\n",
        "\r\n",
        "  def deal_a_card(self):\r\n",
        "    # to deal cards from the deck we will use pop()\r\n",
        "    return self.all_cards.pop()\r\n",
        "\r\n",
        "\r\n",
        "  def shuffle_cards(self):\r\n",
        "    return random.shuffle(self.all_cards)\r\n",
        "    "
      ],
      "execution_count": 131,
      "outputs": []
    },
    {
      "cell_type": "code",
      "metadata": {
        "id": "bYve7acVKG8-"
      },
      "source": [
        "card = Deck()\r\n"
      ],
      "execution_count": 132,
      "outputs": []
    },
    {
      "cell_type": "code",
      "metadata": {
        "colab": {
          "base_uri": "https://localhost:8080/"
        },
        "id": "oiERr7d0O8GE",
        "outputId": "13e0aae9-ffab-44c8-da1a-1b03e4fd4feb"
      },
      "source": [
        "card.deal_a_card() #safe in memory"
      ],
      "execution_count": 133,
      "outputs": [
        {
          "output_type": "execute_result",
          "data": {
            "text/plain": [
              "<__main__.Card at 0x7fe554795e80>"
            ]
          },
          "metadata": {
            "tags": []
          },
          "execution_count": 133
        }
      ]
    },
    {
      "cell_type": "code",
      "metadata": {
        "colab": {
          "base_uri": "https://localhost:8080/"
        },
        "id": "bOF_BLm6ToGG",
        "outputId": "8c907de3-f4a8-424a-e7db-5fdf68079007"
      },
      "source": [
        "print(card.all_cards[0])"
      ],
      "execution_count": 134,
      "outputs": [
        {
          "output_type": "stream",
          "text": [
            "two of diamonds (♦)\n"
          ],
          "name": "stdout"
        }
      ]
    },
    {
      "cell_type": "code",
      "metadata": {
        "colab": {
          "base_uri": "https://localhost:8080/"
        },
        "id": "aJqNgM_mVqki",
        "outputId": "2273392d-652b-490f-9142-470c9f647ad7"
      },
      "source": [
        "card.shuffle_cards"
      ],
      "execution_count": 135,
      "outputs": [
        {
          "output_type": "execute_result",
          "data": {
            "text/plain": [
              "<bound method Deck.shuffle_cards of <__main__.Deck object at 0x7fe5547496a0>>"
            ]
          },
          "metadata": {
            "tags": []
          },
          "execution_count": 135
        }
      ]
    },
    {
      "cell_type": "code",
      "metadata": {
        "colab": {
          "base_uri": "https://localhost:8080/"
        },
        "id": "SR_HlKyeVuvp",
        "outputId": "d74bbab5-a800-4074-a5b6-c8e85367cd76"
      },
      "source": [
        "print(card.all_cards[0])"
      ],
      "execution_count": 77,
      "outputs": [
        {
          "output_type": "stream",
          "text": [
            "ten of clubs (♣)\n"
          ],
          "name": "stdout"
        }
      ]
    },
    {
      "cell_type": "code",
      "metadata": {
        "colab": {
          "base_uri": "https://localhost:8080/"
        },
        "id": "bipKbb0EVyNo",
        "outputId": "81dfc1fa-8276-4c62-8039-929e94c71b50"
      },
      "source": [
        "card.deal_a_card()"
      ],
      "execution_count": 78,
      "outputs": [
        {
          "output_type": "execute_result",
          "data": {
            "text/plain": [
              "<__main__.Card at 0x7fe5547e2a58>"
            ]
          },
          "metadata": {
            "tags": []
          },
          "execution_count": 78
        }
      ]
    },
    {
      "cell_type": "code",
      "metadata": {
        "colab": {
          "base_uri": "https://localhost:8080/"
        },
        "id": "4nAUxt-MV1Ho",
        "outputId": "548b6b24-a306-46bf-f1e1-df16296a8aaa"
      },
      "source": [
        "print(card.deal_a_card())"
      ],
      "execution_count": 79,
      "outputs": [
        {
          "output_type": "stream",
          "text": [
            "four of diamonds (♦)\n"
          ],
          "name": "stdout"
        }
      ]
    },
    {
      "cell_type": "code",
      "metadata": {
        "colab": {
          "base_uri": "https://localhost:8080/"
        },
        "id": "u2qV55tuV36a",
        "outputId": "9059c0cf-4169-41e9-eb53-ab0803b3c4ed"
      },
      "source": [
        "for the_cards in card.all_cards:\r\n",
        "  print(the_cards)"
      ],
      "execution_count": 83,
      "outputs": [
        {
          "output_type": "stream",
          "text": [
            "ten of clubs (♣)\n",
            "queen of hearts (♥)\n",
            "five of hearts (♥)\n",
            "five of clubs (♣)\n",
            "ten of hearts (♥)\n",
            "ace of hearts (♥)\n",
            "queen of  spades (♠)\n",
            "five of  spades (♠)\n",
            "three of hearts (♥)\n",
            "nine of diamonds (♦)\n",
            "eight of hearts (♥)\n",
            "three of clubs (♣)\n",
            "jack of clubs (♣)\n",
            "jack of diamonds (♦)\n",
            "seven of diamonds (♦)\n",
            "eight of diamonds (♦)\n",
            "three of diamonds (♦)\n",
            "nine of clubs (♣)\n",
            "ace of diamonds (♦)\n",
            "eight of clubs (♣)\n",
            "six of  spades (♠)\n",
            "six of hearts (♥)\n",
            "ace of clubs (♣)\n",
            "jack of hearts (♥)\n",
            "king of diamonds (♦)\n",
            "ten of diamonds (♦)\n",
            "nine of  spades (♠)\n",
            "seven of  spades (♠)\n",
            "six of diamonds (♦)\n",
            "queen of clubs (♣)\n",
            "nine of hearts (♥)\n",
            "four of hearts (♥)\n",
            "queen of diamonds (♦)\n",
            "king of  spades (♠)\n",
            "six of clubs (♣)\n",
            "four of  spades (♠)\n",
            "two of diamonds (♦)\n",
            "three of  spades (♠)\n",
            "seven of clubs (♣)\n",
            "two of  spades (♠)\n",
            "ten of  spades (♠)\n",
            "four of clubs (♣)\n",
            "eight of  spades (♠)\n",
            "five of diamonds (♦)\n",
            "two of hearts (♥)\n",
            "king of hearts (♥)\n",
            "king of clubs (♣)\n",
            "seven of hearts (♥)\n",
            "jack of  spades (♠)\n"
          ],
          "name": "stdout"
        }
      ]
    },
    {
      "cell_type": "code",
      "metadata": {
        "id": "cTw5xWAcWny7"
      },
      "source": [
        "# Player class\r\n",
        "# the player will have one attribute, his name\r\n",
        "# we will be able to remove the card from our deck \r\n",
        "# after wining a game the player must be able to add the card to his decks, \r\n",
        "#the cards can be list of cards or a single card\r\n"
      ],
      "execution_count": 86,
      "outputs": []
    },
    {
      "cell_type": "code",
      "metadata": {
        "id": "GiYYWIKhWsV-"
      },
      "source": [
        "class Player():\r\n",
        "\r\n",
        "\r\n",
        "  def __init__(self, name):\r\n",
        "    self.name = name\r\n",
        "    self.all_cards = []\r\n",
        "\r\n",
        "  def remove_a_card(self):\r\n",
        "   # to play a war game, the top i card remove, pop(0)\r\n",
        "   return self.all_cards.pop(0) \r\n",
        "\r\n",
        "\r\n",
        " \r\n",
        "  def add_a_card(self,new_cards):\r\n",
        "   # we extend a list of cards to our  all_cards\r\n",
        "   if type(new_cards) == type([]):\r\n",
        "     self.all_cards.extend(new_cards)\r\n",
        "   # we append a card to our all_cards list\r\n",
        "   else:\r\n",
        "     self.all_cards.append(new_cards)\r\n",
        "\r\n",
        " # we want to print the number of cards a name has\r\n",
        "  def __str__(self):\r\n",
        "   return f'{self.name} has {len(self.all_cards)} cards'\r\n",
        "\r\n",
        "\r\n",
        "     \r\n",
        "\r\n"
      ],
      "execution_count": 108,
      "outputs": []
    },
    {
      "cell_type": "code",
      "metadata": {
        "id": "qLaRzgEwcva5"
      },
      "source": [
        "player_name = Player('Jose')"
      ],
      "execution_count": 109,
      "outputs": []
    },
    {
      "cell_type": "code",
      "metadata": {
        "colab": {
          "base_uri": "https://localhost:8080/",
          "height": 35
        },
        "id": "SvfsayMqd16n",
        "outputId": "b99701e3-20d9-432f-8902-53b0a6f32885"
      },
      "source": [
        "player_name.name"
      ],
      "execution_count": 110,
      "outputs": [
        {
          "output_type": "execute_result",
          "data": {
            "application/vnd.google.colaboratory.intrinsic+json": {
              "type": "string"
            },
            "text/plain": [
              "'Jose'"
            ]
          },
          "metadata": {
            "tags": []
          },
          "execution_count": 110
        }
      ]
    },
    {
      "cell_type": "code",
      "metadata": {
        "colab": {
          "base_uri": "https://localhost:8080/"
        },
        "id": "amgY5MOBd4TS",
        "outputId": "af758bc7-616f-4d89-d26a-3a64470a828c"
      },
      "source": [
        "print(player_name)"
      ],
      "execution_count": 111,
      "outputs": [
        {
          "output_type": "stream",
          "text": [
            "Jose has 0 cards\n"
          ],
          "name": "stdout"
        }
      ]
    },
    {
      "cell_type": "code",
      "metadata": {
        "id": "EeE4EyR1d_AK"
      },
      "source": [
        "player_name.add_a_card(card.all_cards[0])"
      ],
      "execution_count": 113,
      "outputs": []
    },
    {
      "cell_type": "code",
      "metadata": {
        "colab": {
          "base_uri": "https://localhost:8080/"
        },
        "id": "hqLLIOCuinpZ",
        "outputId": "e3dc25f5-3d26-4488-dcc9-dc9dbc2f8ce8"
      },
      "source": [
        "print(player_name)"
      ],
      "execution_count": 114,
      "outputs": [
        {
          "output_type": "stream",
          "text": [
            "Jose has 1 cards\n"
          ],
          "name": "stdout"
        }
      ]
    },
    {
      "cell_type": "code",
      "metadata": {
        "id": "DvzC6ROSjJuw"
      },
      "source": [
        "player_name.add_a_card([card.all_cards[0],card.all_cards[1]])"
      ],
      "execution_count": 116,
      "outputs": []
    },
    {
      "cell_type": "code",
      "metadata": {
        "colab": {
          "base_uri": "https://localhost:8080/"
        },
        "id": "v4vuDZj6jWJF",
        "outputId": "4647c72f-3823-4c8b-e431-bb9c5aaa8c82"
      },
      "source": [
        "print(player_name)"
      ],
      "execution_count": 117,
      "outputs": [
        {
          "output_type": "stream",
          "text": [
            "Jose has 3 cards\n"
          ],
          "name": "stdout"
        }
      ]
    },
    {
      "cell_type": "code",
      "metadata": {
        "colab": {
          "base_uri": "https://localhost:8080/"
        },
        "id": "DZk-cVnQjavC",
        "outputId": "89eed359-bbbf-4cbb-f098-57d251b22fdb"
      },
      "source": [
        "print(player_name.remove_a_card())"
      ],
      "execution_count": 119,
      "outputs": [
        {
          "output_type": "stream",
          "text": [
            "ten of clubs (♣)\n"
          ],
          "name": "stdout"
        }
      ]
    },
    {
      "cell_type": "code",
      "metadata": {
        "colab": {
          "base_uri": "https://localhost:8080/"
        },
        "id": "XZF2_BXZjeFV",
        "outputId": "3e3a188c-49a7-439c-a4b8-e83b310fc755"
      },
      "source": [
        "print(player_name)"
      ],
      "execution_count": 120,
      "outputs": [
        {
          "output_type": "stream",
          "text": [
            "Jose has 1 cards\n"
          ],
          "name": "stdout"
        }
      ]
    },
    {
      "cell_type": "markdown",
      "metadata": {
        "id": "TS87Au4cj-f1"
      },
      "source": [
        "# we put everything together\r\n",
        "\r\n",
        "we have a card class, that have suit, rank and values and it can print them e.g (four of diamonds)\r\n",
        "\r\n",
        "we have a deck class, that can shuffle and deal cards using the card class\r\n",
        "\r\n",
        "we have a player class, that have a player name, removing a card from a list and adding a card to a list\r\n",
        "\r\n"
      ]
    },
    {
      "cell_type": "markdown",
      "metadata": {
        "id": "yR_B65cQoMPK"
      },
      "source": [
        "# GAME SET UP"
      ]
    },
    {
      "cell_type": "code",
      "metadata": {
        "id": "G9OqivGmjmAb"
      },
      "source": [
        "# our two players\r\n",
        "player_one = Player('one')\r\n",
        "player_two = Player('two')\r\n",
        "# our deck of cards and shuffle them\r\n",
        "new_deck = Deck()\r\n",
        "new_deck.shuffle_cards()\r\n",
        "\r\n",
        "\r\n",
        "\r\n",
        "# divide our deck of cards into two equal parts between our two players\r\n",
        "\r\n",
        "for cards in range(26):\r\n",
        "  player_one.add_a_card(new_deck.deal_a_card())\r\n",
        "  player_two.add_a_card(new_deck.deal_a_card())\r\n",
        "\r\n",
        "\r\n",
        "\r\n"
      ],
      "execution_count": 146,
      "outputs": []
    },
    {
      "cell_type": "code",
      "metadata": {
        "colab": {
          "base_uri": "https://localhost:8080/"
        },
        "id": "Sd5WZKqZl5ka",
        "outputId": "98a1c500-7363-4e24-b406-5baf4f50bc24"
      },
      "source": [
        "print(len(player_two.all_cards))"
      ],
      "execution_count": 148,
      "outputs": [
        {
          "output_type": "stream",
          "text": [
            "26\n"
          ],
          "name": "stdout"
        }
      ]
    },
    {
      "cell_type": "code",
      "metadata": {
        "colab": {
          "base_uri": "https://localhost:8080/"
        },
        "id": "coYeRolHrB3l",
        "outputId": "d0495259-0b1e-4e90-b79e-a51ab4dc0798"
      },
      "source": [
        "print(len(player_one.all_cards))"
      ],
      "execution_count": 151,
      "outputs": [
        {
          "output_type": "stream",
          "text": [
            "26\n"
          ],
          "name": "stdout"
        }
      ]
    },
    {
      "cell_type": "markdown",
      "metadata": {
        "id": "5ThqnmKrraS-"
      },
      "source": [
        "# both player one and player two have 26 cards\r\n",
        "we start playing the game\r\n",
        "\r\n",
        "\r\n",
        "\r\n"
      ]
    },
    {
      "cell_type": "code",
      "metadata": {
        "id": "VB_Qo7TIrTuF"
      },
      "source": [
        "game_on = True \r\n",
        "# when using a while loop always break from the game or use game_on = False"
      ],
      "execution_count": 152,
      "outputs": []
    },
    {
      "cell_type": "code",
      "metadata": {
        "colab": {
          "base_uri": "https://localhost:8080/"
        },
        "id": "uGqj2gNTr8a0",
        "outputId": "6cab4c2d-7414-43b2-959d-df6dac70043f"
      },
      "source": [
        "round_num = 0\r\n",
        "while game_on:\r\n",
        "  \r\n",
        "   # there will be several rounds, we will like to print the number of rounds\r\n",
        "   round_num += 1\r\n",
        "   print(f'round {round_num}')\r\n",
        "\r\n",
        "\r\n",
        "   # we set when either player is going to loose\r\n",
        "   if len(player_one.all_cards)==0:\r\n",
        "     print('Player one is out of cards!')\r\n",
        "     print('Player two won')\r\n",
        "     game_on = False\r\n",
        "     break\r\n",
        "\r\n",
        "\r\n",
        "   if len(player_two.all_cards) == 0:\r\n",
        "    print('player two is out of cards!')\r\n",
        "    print('Player two won')\r\n",
        "    game_on = False\r\n",
        "    break\r\n",
        "\r\n",
        "    # we start a new round\r\n",
        "\r\n",
        "   player_one_cards = []\r\n",
        "    # player one draws a card and add it to player one cards \r\n",
        "   player_one_cards.append(player_one.remove_a_card())\r\n",
        "\r\n",
        "\r\n",
        "   player_two_cards = []\r\n",
        "    # player two draws a card and add it to player two cards\r\n",
        "   player_two_cards.append(player_two.remove_a_card())\r\n",
        "\r\n",
        "\r\n",
        "   at_war = True\r\n",
        "   while at_war:\r\n",
        "      # at war the last card is what is used to determine the winner\r\n",
        "      if player_one_cards[-1].value > player_two_cards[-1].value:\r\n",
        "        player_one.add_a_card(player_one_cards)\r\n",
        "        player_one.add_a_card(player_two_cards)\r\n",
        "        at_war = False\r\n",
        "        break\r\n",
        "\r\n",
        "      elif player_two_cards[-1].value > player_one_cards[-1].value:\r\n",
        "        player_two.add_a_card(player_two_cards)\r\n",
        "        player_two.add_a_card(player_one_cards)\r\n",
        "        at_war= False\r\n",
        "        break\r\n",
        "\r\n",
        "      else:\r\n",
        "        print('WAR STARTS')\r\n",
        "\r\n",
        "        if len(player_one.all_cards) < 5:\r\n",
        "          print('Player one doesnt have enough cards to continue war')\r\n",
        "          print('Player two won')\r\n",
        "          game_on = False\r\n",
        "          break\r\n",
        "          \r\n",
        "\r\n",
        "        elif len(player_two.all_cards) < 5:\r\n",
        "          print('Player two doesnt have enough cards to continue war')\r\n",
        "          print('Player one won')\r\n",
        "          game_on = False\r\n",
        "          break\r\n",
        "\r\n",
        "        else:\r\n",
        "          for num in range(5): # else we keep drawing more cards- removing 5 cards\r\n",
        "            player_one_cards.append(player_one.remove_a_card())\r\n",
        "            player_two_cards.append(player_two.remove_a_card())\r\n",
        "\r\n",
        "\r\n",
        "\r\n",
        "\r\n",
        "\r\n",
        "\r\n",
        "\r\n",
        "\r\n",
        "\r\n",
        "   \r\n",
        "\r\n",
        " \r\n",
        "\r\n",
        "  "
      ],
      "execution_count": 158,
      "outputs": [
        {
          "output_type": "stream",
          "text": [
            "round 1\n",
            "round 2\n",
            "round 3\n",
            "round 4\n",
            "round 5\n",
            "round 6\n",
            "WAR STARTS\n",
            "Player two doesnt have enough cards to continue war\n",
            "Player one won\n"
          ],
          "name": "stdout"
        }
      ]
    },
    {
      "cell_type": "code",
      "metadata": {
        "id": "EQUR47V2299T"
      },
      "source": [
        ""
      ],
      "execution_count": null,
      "outputs": []
    }
  ]
}